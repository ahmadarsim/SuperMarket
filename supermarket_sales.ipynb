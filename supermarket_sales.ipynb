{
 "cells": [
  {
   "cell_type": "markdown",
   "id": "0733670e",
   "metadata": {},
   "source": [
    "### About Dataset"
   ]
  },
  {
   "cell_type": "raw",
   "id": "72b6da46",
   "metadata": {},
   "source": [
    "https://www.kaggle.com/datasets/aungpyaeap/supermarket-sales\n",
    "\n",
    "The dataset is a record of the historical sales made by a grocery chain over a three-month period in 3 separate branches. "
   ]
  },
  {
   "cell_type": "markdown",
   "id": "12d96a2e",
   "metadata": {},
   "source": [
    "## Question / Finding"
   ]
  },
  {
   "cell_type": "raw",
   "id": "1079608e",
   "metadata": {},
   "source": [
    "1.\tWhich city has the greatest average gross income?\n",
    "2.\tWhat is overall  gross income by City and Branch?\n",
    "3.\tWhat is  total sales in Month?\n",
    "4.\tWhat is  total sales in Days?\n",
    "5.\tWhich product category receives the highest average rating?\n",
    "6.\tHow are different client types distributed?\n",
    "7.\tWhat is the payment distribution?\n",
    "8.\tWhich kind of payment is most preferred by customers?\n",
    "9.\tWhich product line has the highest average sales?\n",
    "10.\tWho purchase things by category\n",
    "\n",
    "\n",
    "\n",
    "\n"
   ]
  },
  {
   "cell_type": "markdown",
   "id": "8788d53d",
   "metadata": {},
   "source": [
    "### Import Libraries"
   ]
  },
  {
   "cell_type": "code",
   "execution_count": 1,
   "id": "3413a567",
   "metadata": {},
   "outputs": [],
   "source": [
    "import numpy as np\n",
    "import pandas as pd\n",
    "import seaborn  as sns\n",
    "import matplotlib.pyplot as plt\n",
    "import warnings\n",
    "warnings.filterwarnings('ignore')"
   ]
  },
  {
   "cell_type": "markdown",
   "id": "45dabba3",
   "metadata": {},
   "source": [
    "### Import dataset"
   ]
  },
  {
   "cell_type": "code",
   "execution_count": 2,
   "id": "06f93036",
   "metadata": {},
   "outputs": [],
   "source": [
    "data = pd.read_csv('C:/Users/User/Desktop/superMarket project/supermarket_sales - Sheet1.csv')"
   ]
  },
  {
   "cell_type": "code",
   "execution_count": 3,
   "id": "e9abfa64",
   "metadata": {},
   "outputs": [
    {
     "data": {
      "text/html": [
       "<div>\n",
       "<style scoped>\n",
       "    .dataframe tbody tr th:only-of-type {\n",
       "        vertical-align: middle;\n",
       "    }\n",
       "\n",
       "    .dataframe tbody tr th {\n",
       "        vertical-align: top;\n",
       "    }\n",
       "\n",
       "    .dataframe thead th {\n",
       "        text-align: right;\n",
       "    }\n",
       "</style>\n",
       "<table border=\"1\" class=\"dataframe\">\n",
       "  <thead>\n",
       "    <tr style=\"text-align: right;\">\n",
       "      <th></th>\n",
       "      <th>Invoice ID</th>\n",
       "      <th>Branch</th>\n",
       "      <th>City</th>\n",
       "      <th>Customer type</th>\n",
       "      <th>Gender</th>\n",
       "      <th>Product line</th>\n",
       "      <th>Unit price</th>\n",
       "      <th>Quantity</th>\n",
       "      <th>Tax 5%</th>\n",
       "      <th>Total</th>\n",
       "      <th>Date</th>\n",
       "      <th>Time</th>\n",
       "      <th>Payment</th>\n",
       "      <th>cogs</th>\n",
       "      <th>gross margin percentage</th>\n",
       "      <th>gross income</th>\n",
       "      <th>Rating</th>\n",
       "    </tr>\n",
       "  </thead>\n",
       "  <tbody>\n",
       "    <tr>\n",
       "      <th>0</th>\n",
       "      <td>750-67-8428</td>\n",
       "      <td>A</td>\n",
       "      <td>Yangon</td>\n",
       "      <td>Member</td>\n",
       "      <td>Female</td>\n",
       "      <td>Health and beauty</td>\n",
       "      <td>74.69</td>\n",
       "      <td>7</td>\n",
       "      <td>26.1415</td>\n",
       "      <td>548.9715</td>\n",
       "      <td>1/5/2019</td>\n",
       "      <td>13:08</td>\n",
       "      <td>Ewallet</td>\n",
       "      <td>522.83</td>\n",
       "      <td>4.761905</td>\n",
       "      <td>26.1415</td>\n",
       "      <td>9.1</td>\n",
       "    </tr>\n",
       "    <tr>\n",
       "      <th>1</th>\n",
       "      <td>226-31-3081</td>\n",
       "      <td>C</td>\n",
       "      <td>Naypyitaw</td>\n",
       "      <td>Normal</td>\n",
       "      <td>Female</td>\n",
       "      <td>Electronic accessories</td>\n",
       "      <td>15.28</td>\n",
       "      <td>5</td>\n",
       "      <td>3.8200</td>\n",
       "      <td>80.2200</td>\n",
       "      <td>3/8/2019</td>\n",
       "      <td>10:29</td>\n",
       "      <td>Cash</td>\n",
       "      <td>76.40</td>\n",
       "      <td>4.761905</td>\n",
       "      <td>3.8200</td>\n",
       "      <td>9.6</td>\n",
       "    </tr>\n",
       "    <tr>\n",
       "      <th>2</th>\n",
       "      <td>631-41-3108</td>\n",
       "      <td>A</td>\n",
       "      <td>Yangon</td>\n",
       "      <td>Normal</td>\n",
       "      <td>Male</td>\n",
       "      <td>Home and lifestyle</td>\n",
       "      <td>46.33</td>\n",
       "      <td>7</td>\n",
       "      <td>16.2155</td>\n",
       "      <td>340.5255</td>\n",
       "      <td>3/3/2019</td>\n",
       "      <td>13:23</td>\n",
       "      <td>Credit card</td>\n",
       "      <td>324.31</td>\n",
       "      <td>4.761905</td>\n",
       "      <td>16.2155</td>\n",
       "      <td>7.4</td>\n",
       "    </tr>\n",
       "    <tr>\n",
       "      <th>3</th>\n",
       "      <td>123-19-1176</td>\n",
       "      <td>A</td>\n",
       "      <td>Yangon</td>\n",
       "      <td>Member</td>\n",
       "      <td>Male</td>\n",
       "      <td>Health and beauty</td>\n",
       "      <td>58.22</td>\n",
       "      <td>8</td>\n",
       "      <td>23.2880</td>\n",
       "      <td>489.0480</td>\n",
       "      <td>1/27/2019</td>\n",
       "      <td>20:33</td>\n",
       "      <td>Ewallet</td>\n",
       "      <td>465.76</td>\n",
       "      <td>4.761905</td>\n",
       "      <td>23.2880</td>\n",
       "      <td>8.4</td>\n",
       "    </tr>\n",
       "    <tr>\n",
       "      <th>4</th>\n",
       "      <td>373-73-7910</td>\n",
       "      <td>A</td>\n",
       "      <td>Yangon</td>\n",
       "      <td>Normal</td>\n",
       "      <td>Male</td>\n",
       "      <td>Sports and travel</td>\n",
       "      <td>86.31</td>\n",
       "      <td>7</td>\n",
       "      <td>30.2085</td>\n",
       "      <td>634.3785</td>\n",
       "      <td>2/8/2019</td>\n",
       "      <td>10:37</td>\n",
       "      <td>Ewallet</td>\n",
       "      <td>604.17</td>\n",
       "      <td>4.761905</td>\n",
       "      <td>30.2085</td>\n",
       "      <td>5.3</td>\n",
       "    </tr>\n",
       "  </tbody>\n",
       "</table>\n",
       "</div>"
      ],
      "text/plain": [
       "    Invoice ID Branch       City Customer type  Gender  \\\n",
       "0  750-67-8428      A     Yangon        Member  Female   \n",
       "1  226-31-3081      C  Naypyitaw        Normal  Female   \n",
       "2  631-41-3108      A     Yangon        Normal    Male   \n",
       "3  123-19-1176      A     Yangon        Member    Male   \n",
       "4  373-73-7910      A     Yangon        Normal    Male   \n",
       "\n",
       "             Product line  Unit price  Quantity   Tax 5%     Total       Date  \\\n",
       "0       Health and beauty       74.69         7  26.1415  548.9715   1/5/2019   \n",
       "1  Electronic accessories       15.28         5   3.8200   80.2200   3/8/2019   \n",
       "2      Home and lifestyle       46.33         7  16.2155  340.5255   3/3/2019   \n",
       "3       Health and beauty       58.22         8  23.2880  489.0480  1/27/2019   \n",
       "4       Sports and travel       86.31         7  30.2085  634.3785   2/8/2019   \n",
       "\n",
       "    Time      Payment    cogs  gross margin percentage  gross income  Rating  \n",
       "0  13:08      Ewallet  522.83                 4.761905       26.1415     9.1  \n",
       "1  10:29         Cash   76.40                 4.761905        3.8200     9.6  \n",
       "2  13:23  Credit card  324.31                 4.761905       16.2155     7.4  \n",
       "3  20:33      Ewallet  465.76                 4.761905       23.2880     8.4  \n",
       "4  10:37      Ewallet  604.17                 4.761905       30.2085     5.3  "
      ]
     },
     "execution_count": 3,
     "metadata": {},
     "output_type": "execute_result"
    }
   ],
   "source": [
    "data.head()"
   ]
  },
  {
   "cell_type": "code",
   "execution_count": 4,
   "id": "f2f426f6",
   "metadata": {},
   "outputs": [
    {
     "data": {
      "text/plain": [
       "Index(['Invoice ID', 'Branch', 'City', 'Customer type', 'Gender',\n",
       "       'Product line', 'Unit price', 'Quantity', 'Tax 5%', 'Total', 'Date',\n",
       "       'Time', 'Payment', 'cogs', 'gross margin percentage', 'gross income',\n",
       "       'Rating'],\n",
       "      dtype='object')"
      ]
     },
     "execution_count": 4,
     "metadata": {},
     "output_type": "execute_result"
    }
   ],
   "source": [
    "data.columns"
   ]
  },
  {
   "cell_type": "code",
   "execution_count": 5,
   "id": "6a57e2e6",
   "metadata": {},
   "outputs": [
    {
     "name": "stdout",
     "output_type": "stream",
     "text": [
      "<class 'pandas.core.frame.DataFrame'>\n",
      "RangeIndex: 1000 entries, 0 to 999\n",
      "Data columns (total 17 columns):\n",
      " #   Column                   Non-Null Count  Dtype  \n",
      "---  ------                   --------------  -----  \n",
      " 0   Invoice ID               1000 non-null   object \n",
      " 1   Branch                   1000 non-null   object \n",
      " 2   City                     1000 non-null   object \n",
      " 3   Customer type            1000 non-null   object \n",
      " 4   Gender                   1000 non-null   object \n",
      " 5   Product line             1000 non-null   object \n",
      " 6   Unit price               1000 non-null   float64\n",
      " 7   Quantity                 1000 non-null   int64  \n",
      " 8   Tax 5%                   1000 non-null   float64\n",
      " 9   Total                    1000 non-null   float64\n",
      " 10  Date                     1000 non-null   object \n",
      " 11  Time                     1000 non-null   object \n",
      " 12  Payment                  1000 non-null   object \n",
      " 13  cogs                     1000 non-null   float64\n",
      " 14  gross margin percentage  1000 non-null   float64\n",
      " 15  gross income             1000 non-null   float64\n",
      " 16  Rating                   1000 non-null   float64\n",
      "dtypes: float64(7), int64(1), object(9)\n",
      "memory usage: 132.9+ KB\n"
     ]
    }
   ],
   "source": [
    "data.info()"
   ]
  },
  {
   "cell_type": "code",
   "execution_count": 6,
   "id": "e38dc96a",
   "metadata": {},
   "outputs": [],
   "source": [
    "# We can see that the date has object data type instead of datetime and we separate into day month and year"
   ]
  },
  {
   "cell_type": "markdown",
   "id": "4ce2f3c6",
   "metadata": {},
   "source": [
    "### change date into day, month and year"
   ]
  },
  {
   "cell_type": "code",
   "execution_count": 7,
   "id": "4ebeb8f5",
   "metadata": {},
   "outputs": [],
   "source": [
    "data['Date'] = pd.to_datetime(data['Date'])\n",
    "\n",
    "data['Day']=data['Date'].dt.day\n",
    "data['Month']=data['Date'].dt.month\n",
    "data['Year']=data['Date'].dt.year"
   ]
  },
  {
   "cell_type": "code",
   "execution_count": 8,
   "id": "c2cb5fc5",
   "metadata": {},
   "outputs": [],
   "source": [
    "data= data.drop(['Date'] ,axis=1)"
   ]
  },
  {
   "cell_type": "code",
   "execution_count": 9,
   "id": "f73e4ec4",
   "metadata": {},
   "outputs": [
    {
     "data": {
      "text/html": [
       "<div>\n",
       "<style scoped>\n",
       "    .dataframe tbody tr th:only-of-type {\n",
       "        vertical-align: middle;\n",
       "    }\n",
       "\n",
       "    .dataframe tbody tr th {\n",
       "        vertical-align: top;\n",
       "    }\n",
       "\n",
       "    .dataframe thead th {\n",
       "        text-align: right;\n",
       "    }\n",
       "</style>\n",
       "<table border=\"1\" class=\"dataframe\">\n",
       "  <thead>\n",
       "    <tr style=\"text-align: right;\">\n",
       "      <th></th>\n",
       "      <th>Invoice ID</th>\n",
       "      <th>Branch</th>\n",
       "      <th>City</th>\n",
       "      <th>Customer type</th>\n",
       "      <th>Gender</th>\n",
       "      <th>Product line</th>\n",
       "      <th>Unit price</th>\n",
       "      <th>Quantity</th>\n",
       "      <th>Tax 5%</th>\n",
       "      <th>Total</th>\n",
       "      <th>Time</th>\n",
       "      <th>Payment</th>\n",
       "      <th>cogs</th>\n",
       "      <th>gross margin percentage</th>\n",
       "      <th>gross income</th>\n",
       "      <th>Rating</th>\n",
       "      <th>Day</th>\n",
       "      <th>Month</th>\n",
       "      <th>Year</th>\n",
       "    </tr>\n",
       "  </thead>\n",
       "  <tbody>\n",
       "    <tr>\n",
       "      <th>0</th>\n",
       "      <td>750-67-8428</td>\n",
       "      <td>A</td>\n",
       "      <td>Yangon</td>\n",
       "      <td>Member</td>\n",
       "      <td>Female</td>\n",
       "      <td>Health and beauty</td>\n",
       "      <td>74.69</td>\n",
       "      <td>7</td>\n",
       "      <td>26.1415</td>\n",
       "      <td>548.9715</td>\n",
       "      <td>13:08</td>\n",
       "      <td>Ewallet</td>\n",
       "      <td>522.83</td>\n",
       "      <td>4.761905</td>\n",
       "      <td>26.1415</td>\n",
       "      <td>9.1</td>\n",
       "      <td>5</td>\n",
       "      <td>1</td>\n",
       "      <td>2019</td>\n",
       "    </tr>\n",
       "    <tr>\n",
       "      <th>1</th>\n",
       "      <td>226-31-3081</td>\n",
       "      <td>C</td>\n",
       "      <td>Naypyitaw</td>\n",
       "      <td>Normal</td>\n",
       "      <td>Female</td>\n",
       "      <td>Electronic accessories</td>\n",
       "      <td>15.28</td>\n",
       "      <td>5</td>\n",
       "      <td>3.8200</td>\n",
       "      <td>80.2200</td>\n",
       "      <td>10:29</td>\n",
       "      <td>Cash</td>\n",
       "      <td>76.40</td>\n",
       "      <td>4.761905</td>\n",
       "      <td>3.8200</td>\n",
       "      <td>9.6</td>\n",
       "      <td>8</td>\n",
       "      <td>3</td>\n",
       "      <td>2019</td>\n",
       "    </tr>\n",
       "    <tr>\n",
       "      <th>2</th>\n",
       "      <td>631-41-3108</td>\n",
       "      <td>A</td>\n",
       "      <td>Yangon</td>\n",
       "      <td>Normal</td>\n",
       "      <td>Male</td>\n",
       "      <td>Home and lifestyle</td>\n",
       "      <td>46.33</td>\n",
       "      <td>7</td>\n",
       "      <td>16.2155</td>\n",
       "      <td>340.5255</td>\n",
       "      <td>13:23</td>\n",
       "      <td>Credit card</td>\n",
       "      <td>324.31</td>\n",
       "      <td>4.761905</td>\n",
       "      <td>16.2155</td>\n",
       "      <td>7.4</td>\n",
       "      <td>3</td>\n",
       "      <td>3</td>\n",
       "      <td>2019</td>\n",
       "    </tr>\n",
       "    <tr>\n",
       "      <th>3</th>\n",
       "      <td>123-19-1176</td>\n",
       "      <td>A</td>\n",
       "      <td>Yangon</td>\n",
       "      <td>Member</td>\n",
       "      <td>Male</td>\n",
       "      <td>Health and beauty</td>\n",
       "      <td>58.22</td>\n",
       "      <td>8</td>\n",
       "      <td>23.2880</td>\n",
       "      <td>489.0480</td>\n",
       "      <td>20:33</td>\n",
       "      <td>Ewallet</td>\n",
       "      <td>465.76</td>\n",
       "      <td>4.761905</td>\n",
       "      <td>23.2880</td>\n",
       "      <td>8.4</td>\n",
       "      <td>27</td>\n",
       "      <td>1</td>\n",
       "      <td>2019</td>\n",
       "    </tr>\n",
       "    <tr>\n",
       "      <th>4</th>\n",
       "      <td>373-73-7910</td>\n",
       "      <td>A</td>\n",
       "      <td>Yangon</td>\n",
       "      <td>Normal</td>\n",
       "      <td>Male</td>\n",
       "      <td>Sports and travel</td>\n",
       "      <td>86.31</td>\n",
       "      <td>7</td>\n",
       "      <td>30.2085</td>\n",
       "      <td>634.3785</td>\n",
       "      <td>10:37</td>\n",
       "      <td>Ewallet</td>\n",
       "      <td>604.17</td>\n",
       "      <td>4.761905</td>\n",
       "      <td>30.2085</td>\n",
       "      <td>5.3</td>\n",
       "      <td>8</td>\n",
       "      <td>2</td>\n",
       "      <td>2019</td>\n",
       "    </tr>\n",
       "  </tbody>\n",
       "</table>\n",
       "</div>"
      ],
      "text/plain": [
       "    Invoice ID Branch       City Customer type  Gender  \\\n",
       "0  750-67-8428      A     Yangon        Member  Female   \n",
       "1  226-31-3081      C  Naypyitaw        Normal  Female   \n",
       "2  631-41-3108      A     Yangon        Normal    Male   \n",
       "3  123-19-1176      A     Yangon        Member    Male   \n",
       "4  373-73-7910      A     Yangon        Normal    Male   \n",
       "\n",
       "             Product line  Unit price  Quantity   Tax 5%     Total   Time  \\\n",
       "0       Health and beauty       74.69         7  26.1415  548.9715  13:08   \n",
       "1  Electronic accessories       15.28         5   3.8200   80.2200  10:29   \n",
       "2      Home and lifestyle       46.33         7  16.2155  340.5255  13:23   \n",
       "3       Health and beauty       58.22         8  23.2880  489.0480  20:33   \n",
       "4       Sports and travel       86.31         7  30.2085  634.3785  10:37   \n",
       "\n",
       "       Payment    cogs  gross margin percentage  gross income  Rating  Day  \\\n",
       "0      Ewallet  522.83                 4.761905       26.1415     9.1    5   \n",
       "1         Cash   76.40                 4.761905        3.8200     9.6    8   \n",
       "2  Credit card  324.31                 4.761905       16.2155     7.4    3   \n",
       "3      Ewallet  465.76                 4.761905       23.2880     8.4   27   \n",
       "4      Ewallet  604.17                 4.761905       30.2085     5.3    8   \n",
       "\n",
       "   Month  Year  \n",
       "0      1  2019  \n",
       "1      3  2019  \n",
       "2      3  2019  \n",
       "3      1  2019  \n",
       "4      2  2019  "
      ]
     },
     "execution_count": 9,
     "metadata": {},
     "output_type": "execute_result"
    }
   ],
   "source": [
    "data.head()"
   ]
  },
  {
   "cell_type": "code",
   "execution_count": 10,
   "id": "0c1d587c",
   "metadata": {},
   "outputs": [
    {
     "data": {
      "text/plain": [
       "(1000, 19)"
      ]
     },
     "execution_count": 10,
     "metadata": {},
     "output_type": "execute_result"
    }
   ],
   "source": [
    "data.shape"
   ]
  },
  {
   "cell_type": "markdown",
   "id": "35d4b2d6",
   "metadata": {},
   "source": [
    "### Statitisc information"
   ]
  },
  {
   "cell_type": "code",
   "execution_count": 11,
   "id": "6357796d",
   "metadata": {},
   "outputs": [
    {
     "data": {
      "text/html": [
       "<div>\n",
       "<style scoped>\n",
       "    .dataframe tbody tr th:only-of-type {\n",
       "        vertical-align: middle;\n",
       "    }\n",
       "\n",
       "    .dataframe tbody tr th {\n",
       "        vertical-align: top;\n",
       "    }\n",
       "\n",
       "    .dataframe thead th {\n",
       "        text-align: right;\n",
       "    }\n",
       "</style>\n",
       "<table border=\"1\" class=\"dataframe\">\n",
       "  <thead>\n",
       "    <tr style=\"text-align: right;\">\n",
       "      <th></th>\n",
       "      <th>Unit price</th>\n",
       "      <th>Quantity</th>\n",
       "      <th>Tax 5%</th>\n",
       "      <th>Total</th>\n",
       "      <th>cogs</th>\n",
       "      <th>gross margin percentage</th>\n",
       "      <th>gross income</th>\n",
       "      <th>Rating</th>\n",
       "      <th>Day</th>\n",
       "      <th>Month</th>\n",
       "      <th>Year</th>\n",
       "    </tr>\n",
       "  </thead>\n",
       "  <tbody>\n",
       "    <tr>\n",
       "      <th>count</th>\n",
       "      <td>1000.000000</td>\n",
       "      <td>1000.000000</td>\n",
       "      <td>1000.000000</td>\n",
       "      <td>1000.000000</td>\n",
       "      <td>1000.00000</td>\n",
       "      <td>1.000000e+03</td>\n",
       "      <td>1000.000000</td>\n",
       "      <td>1000.00000</td>\n",
       "      <td>1000.000000</td>\n",
       "      <td>1000.000000</td>\n",
       "      <td>1000.0</td>\n",
       "    </tr>\n",
       "    <tr>\n",
       "      <th>mean</th>\n",
       "      <td>55.672130</td>\n",
       "      <td>5.510000</td>\n",
       "      <td>15.379369</td>\n",
       "      <td>322.966749</td>\n",
       "      <td>307.58738</td>\n",
       "      <td>4.761905e+00</td>\n",
       "      <td>15.379369</td>\n",
       "      <td>6.97270</td>\n",
       "      <td>15.256000</td>\n",
       "      <td>1.993000</td>\n",
       "      <td>2019.0</td>\n",
       "    </tr>\n",
       "    <tr>\n",
       "      <th>std</th>\n",
       "      <td>26.494628</td>\n",
       "      <td>2.923431</td>\n",
       "      <td>11.708825</td>\n",
       "      <td>245.885335</td>\n",
       "      <td>234.17651</td>\n",
       "      <td>6.131498e-14</td>\n",
       "      <td>11.708825</td>\n",
       "      <td>1.71858</td>\n",
       "      <td>8.693563</td>\n",
       "      <td>0.835254</td>\n",
       "      <td>0.0</td>\n",
       "    </tr>\n",
       "    <tr>\n",
       "      <th>min</th>\n",
       "      <td>10.080000</td>\n",
       "      <td>1.000000</td>\n",
       "      <td>0.508500</td>\n",
       "      <td>10.678500</td>\n",
       "      <td>10.17000</td>\n",
       "      <td>4.761905e+00</td>\n",
       "      <td>0.508500</td>\n",
       "      <td>4.00000</td>\n",
       "      <td>1.000000</td>\n",
       "      <td>1.000000</td>\n",
       "      <td>2019.0</td>\n",
       "    </tr>\n",
       "    <tr>\n",
       "      <th>25%</th>\n",
       "      <td>32.875000</td>\n",
       "      <td>3.000000</td>\n",
       "      <td>5.924875</td>\n",
       "      <td>124.422375</td>\n",
       "      <td>118.49750</td>\n",
       "      <td>4.761905e+00</td>\n",
       "      <td>5.924875</td>\n",
       "      <td>5.50000</td>\n",
       "      <td>8.000000</td>\n",
       "      <td>1.000000</td>\n",
       "      <td>2019.0</td>\n",
       "    </tr>\n",
       "    <tr>\n",
       "      <th>50%</th>\n",
       "      <td>55.230000</td>\n",
       "      <td>5.000000</td>\n",
       "      <td>12.088000</td>\n",
       "      <td>253.848000</td>\n",
       "      <td>241.76000</td>\n",
       "      <td>4.761905e+00</td>\n",
       "      <td>12.088000</td>\n",
       "      <td>7.00000</td>\n",
       "      <td>15.000000</td>\n",
       "      <td>2.000000</td>\n",
       "      <td>2019.0</td>\n",
       "    </tr>\n",
       "    <tr>\n",
       "      <th>75%</th>\n",
       "      <td>77.935000</td>\n",
       "      <td>8.000000</td>\n",
       "      <td>22.445250</td>\n",
       "      <td>471.350250</td>\n",
       "      <td>448.90500</td>\n",
       "      <td>4.761905e+00</td>\n",
       "      <td>22.445250</td>\n",
       "      <td>8.50000</td>\n",
       "      <td>23.000000</td>\n",
       "      <td>3.000000</td>\n",
       "      <td>2019.0</td>\n",
       "    </tr>\n",
       "    <tr>\n",
       "      <th>max</th>\n",
       "      <td>99.960000</td>\n",
       "      <td>10.000000</td>\n",
       "      <td>49.650000</td>\n",
       "      <td>1042.650000</td>\n",
       "      <td>993.00000</td>\n",
       "      <td>4.761905e+00</td>\n",
       "      <td>49.650000</td>\n",
       "      <td>10.00000</td>\n",
       "      <td>31.000000</td>\n",
       "      <td>3.000000</td>\n",
       "      <td>2019.0</td>\n",
       "    </tr>\n",
       "  </tbody>\n",
       "</table>\n",
       "</div>"
      ],
      "text/plain": [
       "        Unit price     Quantity       Tax 5%        Total        cogs  \\\n",
       "count  1000.000000  1000.000000  1000.000000  1000.000000  1000.00000   \n",
       "mean     55.672130     5.510000    15.379369   322.966749   307.58738   \n",
       "std      26.494628     2.923431    11.708825   245.885335   234.17651   \n",
       "min      10.080000     1.000000     0.508500    10.678500    10.17000   \n",
       "25%      32.875000     3.000000     5.924875   124.422375   118.49750   \n",
       "50%      55.230000     5.000000    12.088000   253.848000   241.76000   \n",
       "75%      77.935000     8.000000    22.445250   471.350250   448.90500   \n",
       "max      99.960000    10.000000    49.650000  1042.650000   993.00000   \n",
       "\n",
       "       gross margin percentage  gross income      Rating          Day  \\\n",
       "count             1.000000e+03   1000.000000  1000.00000  1000.000000   \n",
       "mean              4.761905e+00     15.379369     6.97270    15.256000   \n",
       "std               6.131498e-14     11.708825     1.71858     8.693563   \n",
       "min               4.761905e+00      0.508500     4.00000     1.000000   \n",
       "25%               4.761905e+00      5.924875     5.50000     8.000000   \n",
       "50%               4.761905e+00     12.088000     7.00000    15.000000   \n",
       "75%               4.761905e+00     22.445250     8.50000    23.000000   \n",
       "max               4.761905e+00     49.650000    10.00000    31.000000   \n",
       "\n",
       "             Month    Year  \n",
       "count  1000.000000  1000.0  \n",
       "mean      1.993000  2019.0  \n",
       "std       0.835254     0.0  \n",
       "min       1.000000  2019.0  \n",
       "25%       1.000000  2019.0  \n",
       "50%       2.000000  2019.0  \n",
       "75%       3.000000  2019.0  \n",
       "max       3.000000  2019.0  "
      ]
     },
     "execution_count": 11,
     "metadata": {},
     "output_type": "execute_result"
    }
   ],
   "source": [
    "data.describe()"
   ]
  },
  {
   "cell_type": "markdown",
   "id": "486c601d",
   "metadata": {},
   "source": [
    "### Check Missing value"
   ]
  },
  {
   "cell_type": "code",
   "execution_count": 12,
   "id": "76713c0f",
   "metadata": {},
   "outputs": [
    {
     "data": {
      "text/plain": [
       "Invoice ID                 0\n",
       "Branch                     0\n",
       "City                       0\n",
       "Customer type              0\n",
       "Gender                     0\n",
       "Product line               0\n",
       "Unit price                 0\n",
       "Quantity                   0\n",
       "Tax 5%                     0\n",
       "Total                      0\n",
       "Time                       0\n",
       "Payment                    0\n",
       "cogs                       0\n",
       "gross margin percentage    0\n",
       "gross income               0\n",
       "Rating                     0\n",
       "Day                        0\n",
       "Month                      0\n",
       "Year                       0\n",
       "dtype: int64"
      ]
     },
     "execution_count": 12,
     "metadata": {},
     "output_type": "execute_result"
    }
   ],
   "source": [
    "data.isnull().sum()"
   ]
  },
  {
   "cell_type": "code",
   "execution_count": 13,
   "id": "8371e170",
   "metadata": {},
   "outputs": [
    {
     "data": {
      "image/png": "[encoded data removed]",
      "text/plain": [
       "<Figure size 576x432 with 2 Axes>"
      ]
     },
     "metadata": {
      "needs_background": "light"
     },
     "output_type": "display_data"
    }
   ],
   "source": [
    "plt.figure(figsize=(8,6))\n",
    "sns.heatmap(data.isnull())\n",
    "plt.show()"
   ]
  },
  {
   "cell_type": "code",
   "execution_count": 14,
   "id": "280b9b5a",
   "metadata": {},
   "outputs": [],
   "source": [
    "# this data is clean there is no missing value in it"
   ]
  },
  {
   "cell_type": "markdown",
   "id": "5e8a8429",
   "metadata": {},
   "source": [
    "### Correlation between the variable"
   ]
  },
  {
   "cell_type": "code",
   "execution_count": 15,
   "id": "f5a4febd",
   "metadata": {},
   "outputs": [
    {
     "data": {
      "image/png": "[encoded data removed]",
      "text/plain": [
       "<Figure size 720x432 with 2 Axes>"
      ]
     },
     "metadata": {
      "needs_background": "light"
     },
     "output_type": "display_data"
    }
   ],
   "source": [
    "plt.figure(figsize=(10,6))\n",
    "sns.heatmap(data.drop([\"gross margin percentage\"], axis=1).corr(), annot=True , cmap='Greens')\n",
    "plt.show()"
   ]
  },
  {
   "cell_type": "code",
   "execution_count": 16,
   "id": "12723dce",
   "metadata": {},
   "outputs": [],
   "source": [
    "# rating,day, month and year has not clear correlation with other variable  "
   ]
  },
  {
   "cell_type": "markdown",
   "id": "c4053da5",
   "metadata": {},
   "source": [
    "### Unique column value"
   ]
  },
  {
   "cell_type": "code",
   "execution_count": 17,
   "id": "7eb81050",
   "metadata": {},
   "outputs": [
    {
     "name": "stdout",
     "output_type": "stream",
     "text": [
      "\n",
      "name of column is: Payment and unique values are: ['Ewallet' 'Cash' 'Credit card']\n",
      "----------------------------------------------------------------------------------------------------\n",
      "\n",
      "name of column is: Branch and unique values are: ['A' 'C' 'B']\n",
      "----------------------------------------------------------------------------------------------------\n",
      "\n",
      "name of column is: City and unique values are: ['Yangon' 'Naypyitaw' 'Mandalay']\n",
      "----------------------------------------------------------------------------------------------------\n",
      "\n",
      "name of column is: Customer type and unique values are: ['Member' 'Normal']\n",
      "----------------------------------------------------------------------------------------------------\n",
      "\n",
      "name of column is: Gender and unique values are: ['Female' 'Male']\n",
      "----------------------------------------------------------------------------------------------------\n",
      "\n",
      "name of column is: Product line and unique values are: ['Health and beauty' 'Electronic accessories' 'Home and lifestyle'\n",
      " 'Sports and travel' 'Food and beverages' 'Fashion accessories']\n",
      "----------------------------------------------------------------------------------------------------\n"
     ]
    }
   ],
   "source": [
    "object_variable=data[['Payment','Branch','City','Customer type','Gender','Product line']]\n",
    "for col in object_variable:\n",
    "    print()\n",
    "    if object_variable[col].dtype=='object':\n",
    "        print(f'name of column is: {col} and unique values are: {object_variable[col].unique()}')\n",
    "        print('-----'*20)"
   ]
  },
  {
   "cell_type": "code",
   "execution_count": 18,
   "id": "0d056713",
   "metadata": {},
   "outputs": [
    {
     "data": {
      "text/plain": [
       "Index(['Invoice ID', 'Branch', 'City', 'Customer type', 'Gender',\n",
       "       'Product line', 'Unit price', 'Quantity', 'Tax 5%', 'Total', 'Time',\n",
       "       'Payment', 'cogs', 'gross margin percentage', 'gross income', 'Rating',\n",
       "       'Day', 'Month', 'Year'],\n",
       "      dtype='object')"
      ]
     },
     "execution_count": 18,
     "metadata": {},
     "output_type": "execute_result"
    }
   ],
   "source": [
    "data.columns"
   ]
  },
  {
   "cell_type": "markdown",
   "id": "7014ff1e",
   "metadata": {},
   "source": [
    "### Q1 Which city has the greatest/Highest  gross income by City?\n"
   ]
  },
  {
   "cell_type": "code",
   "execution_count": 19,
   "id": "b7837fcd",
   "metadata": {},
   "outputs": [],
   "source": [
    "# Sort the dataset by 'Gross income' in descending order\n",
    "income_sorted= data.sort_values('gross income' , ascending=False)\n",
    "# Extract the city with the greatest gross income\n",
    "city_sorted=  income_sorted['City'].iloc[0]\n",
    "greatest_income=income_sorted['gross income'].iloc[0]"
   ]
  },
  {
   "cell_type": "code",
   "execution_count": 20,
   "id": "3c412805",
   "metadata": {},
   "outputs": [
    {
     "data": {
      "image/png": "[encoded data removed]",
      "text/plain": [
       "<Figure size 576x432 with 1 Axes>"
      ]
     },
     "metadata": {
      "needs_background": "light"
     },
     "output_type": "display_data"
    },
    {
     "name": "stdout",
     "output_type": "stream",
     "text": [
      "city with the Highest gross income Naypyitaw\n",
      "Highest gross income 49.65\n"
     ]
    }
   ],
   "source": [
    "plt.figure(figsize=(8, 6))\n",
    "plt.bar(income_sorted['City'] , income_sorted['gross income'])\n",
    "    \n",
    "plt.xlabel('City')\n",
    "plt.ylabel('Gross income')\n",
    "plt.title('Gross Income by City')\n",
    "\n",
    "plt.show()\n",
    "\n",
    "print('city with the Highest gross income' ,city_sorted )\n",
    "print('Highest gross income' ,greatest_income )"
   ]
  },
  {
   "cell_type": "markdown",
   "id": "c4ec35ec",
   "metadata": {},
   "source": [
    "### Q2  What is overall  gross income by City and Branch?\n"
   ]
  },
  {
   "cell_type": "code",
   "execution_count": 21,
   "id": "b9b7f3c6",
   "metadata": {},
   "outputs": [
    {
     "name": "stdout",
     "output_type": "stream",
     "text": [
      "Overall Gross Income by City:\n",
      "Branch\n",
      "A    YangonYangonYangonYangonYangonYangonYangonYang...\n",
      "B    MandalayMandalayMandalayMandalayMandalayMandal...\n",
      "C    NaypyitawNaypyitawNaypyitawNaypyitawNaypyitawN...\n",
      "Name: City, dtype: object\n"
     ]
    }
   ],
   "source": [
    "overall_income=data.groupby('Branch')['City'].sum()\n",
    "\n",
    "print(\"Overall Gross Income by City:\")\n",
    "print(overall_income)"
   ]
  },
  {
   "cell_type": "raw",
   "id": "7a29e0a0",
   "metadata": {},
   "source": [
    "we can see that\n",
    "city Yangon has A branch.\n",
    "city Mandalay has B branch.\n",
    "City Naypyitaw has C branch.\n"
   ]
  },
  {
   "cell_type": "code",
   "execution_count": 22,
   "id": "ec38dddf",
   "metadata": {},
   "outputs": [
    {
     "name": "stdout",
     "output_type": "stream",
     "text": [
      "Overall Gross Income by City:\n",
      "City       Branch\n",
      "Mandalay   B         5057.0320\n",
      "Naypyitaw  C         5265.1765\n",
      "Yangon     A         5057.1605\n",
      "Name: gross income, dtype: float64\n"
     ]
    }
   ],
   "source": [
    "overall_income=data.groupby(['City' , \"Branch\"])['gross income'].sum()\n",
    "\n",
    "print(\"Overall Gross Income by City:\")\n",
    "print(overall_income)"
   ]
  },
  {
   "cell_type": "code",
   "execution_count": 23,
   "id": "aaa871f8",
   "metadata": {},
   "outputs": [
    {
     "data": {
      "image/png": "[encoded data removed]",
      "text/plain": [
       "<Figure size 576x432 with 1 Axes>"
      ]
     },
     "metadata": {},
     "output_type": "display_data"
    }
   ],
   "source": [
    "explode = [0.05] * len(overall_income) \n",
    "plt.figure(figsize=(8,6))\n",
    "plt.pie(overall_income.values,labels=overall_income.index, autopct='%1.1f%%',explode=explode)\n",
    "plt.show()"
   ]
  },
  {
   "cell_type": "raw",
   "id": "816918e8",
   "metadata": {},
   "source": [
    "overall gross income by cities and store \n",
    "Store C at the top in gross income \n",
    "store A and B have same amount of gross income  "
   ]
  },
  {
   "cell_type": "markdown",
   "id": "29338fd5",
   "metadata": {},
   "source": [
    "### Q3   What is  total sales in 3 Months?\n"
   ]
  },
  {
   "cell_type": "code",
   "execution_count": 24,
   "id": "9ad29fef",
   "metadata": {},
   "outputs": [
    {
     "name": "stdout",
     "output_type": "stream",
     "text": [
      "over all sales in 3 months : Month\n",
      "1    116291.868\n",
      "2     97219.374\n",
      "3    109455.507\n",
      "Name: Total, dtype: float64\n"
     ]
    }
   ],
   "source": [
    "overall_sales=data.groupby('Month')['Total'].sum()\n",
    "print('over all sales in 3 months :', overall_sales)"
   ]
  },
  {
   "cell_type": "code",
   "execution_count": 25,
   "id": "df089f32",
   "metadata": {},
   "outputs": [
    {
     "data": {
      "image/png": "[encoded data removed]",
      "text/plain": [
       "<Figure size 576x432 with 1 Axes>"
      ]
     },
     "metadata": {
      "needs_background": "light"
     },
     "output_type": "display_data"
    }
   ],
   "source": [
    "plt.figure(figsize=(8,6))\n",
    "plt.plot(overall_sales, marker='o', color='skyblue')\n",
    "plt.xlabel('Month')\n",
    "plt.ylabel('Overall Sales')\n",
    "plt.title('Overall Sales by Month')\n",
    "plt.grid(True)\n",
    "plt.show()"
   ]
  },
  {
   "cell_type": "raw",
   "id": "92a08075",
   "metadata": {},
   "source": [
    "we can see the trend of the sales \n",
    "sales in first is at first = 116291.868\n",
    "sales in second month is at third = 97219.374\n",
    "sales in third month is at second = 109455.507"
   ]
  },
  {
   "cell_type": "markdown",
   "id": "2d8a3b6a",
   "metadata": {},
   "source": [
    "### Q4   What is  total sales in Days?\n"
   ]
  },
  {
   "cell_type": "code",
   "execution_count": 26,
   "id": "ef3b1ac2",
   "metadata": {},
   "outputs": [
    {
     "name": "stdout",
     "output_type": "stream",
     "text": [
      "over sales in days is :322966.749\n"
     ]
    },
    {
     "data": {
      "image/png": "[encoded data removed]",
      "text/plain": [
       "<Figure size 576x432 with 1 Axes>"
      ]
     },
     "metadata": {
      "needs_background": "light"
     },
     "output_type": "display_data"
    }
   ],
   "source": [
    "overall_sales = data['Total'].sum()\n",
    "print(f'over sales in days is :{overall_sales}')\n",
    "\n",
    "plt.figure(figsize=(8,6))\n",
    "plt.bar(data['Day'] ,data['Total'])\n",
    "plt.xlabel('Day')\n",
    "plt.ylabel('Total Sales')\n",
    "plt.title('Total Sales Over Days')\n",
    "plt.grid(True)\n",
    "\n",
    "plt.show()"
   ]
  },
  {
   "cell_type": "markdown",
   "id": "0de47a2a",
   "metadata": {},
   "source": [
    "### Q5 Which product category receives the highest average rating?\n"
   ]
  },
  {
   "cell_type": "code",
   "execution_count": 27,
   "id": "ecb3fff6",
   "metadata": {},
   "outputs": [
    {
     "name": "stdout",
     "output_type": "stream",
     "text": [
      " Product line\n",
      "Electronic accessories    6.924706\n",
      "Fashion accessories       7.029213\n",
      "Food and beverages        7.113218\n",
      "Health and beauty         7.003289\n",
      "Home and lifestyle        6.837500\n",
      "Sports and travel         6.916265\n",
      "Name: Rating, dtype: float64\n"
     ]
    }
   ],
   "source": [
    "product_rating= data.groupby('Product line')['Rating'].mean()\n",
    "print('',product_rating)"
   ]
  },
  {
   "cell_type": "code",
   "execution_count": 28,
   "id": "b0195c29",
   "metadata": {},
   "outputs": [
    {
     "data": {
      "image/png": "[encoded data removed]",
      "text/plain": [
       "<Figure size 576x432 with 1 Axes>"
      ]
     },
     "metadata": {
      "needs_background": "light"
     },
     "output_type": "display_data"
    }
   ],
   "source": [
    "plt.figure(figsize=(8,6))\n",
    "plt.bar(product_rating.index, product_rating.values, color=[ 'lightgreen', 'orange', 'purple'])\n",
    "plt.xticks(rotation=45)\n",
    "plt.show()"
   ]
  },
  {
   "cell_type": "raw",
   "id": "b72cfff2",
   "metadata": {},
   "source": [
    "This graph shows the higest average rating of each category\n",
    "\n",
    "Food and beverages        7.113218\n",
    "Fashion accessories       7.029213\n",
    "Health and beauty         7.003289\n",
    "Electronic accessories    6.924706\n",
    "Sports and travel         6.916265\n",
    "Home and lifestyle        6.837500\n"
   ]
  },
  {
   "cell_type": "markdown",
   "id": "864b46e7",
   "metadata": {},
   "source": [
    "### Q6 How are different client types distributed?\n"
   ]
  },
  {
   "cell_type": "code",
   "execution_count": 29,
   "id": "4e6fbf88",
   "metadata": {},
   "outputs": [
    {
     "data": {
      "image/png": "[encoded data removed]",
      "text/plain": [
       "<Figure size 576x432 with 1 Axes>"
      ]
     },
     "metadata": {
      "needs_background": "light"
     },
     "output_type": "display_data"
    }
   ],
   "source": [
    "plt.figure(figsize=(8,6))\n",
    "ax = sns.countplot(x='Customer type', data=data, hue='Gender')\n",
    "\n",
    "# Add value labels to each bar\n",
    "for p in ax.patches:\n",
    "    height = p.get_height()\n",
    "    ax.text(p.get_x() + p.get_width() / 2, height + 5,\n",
    "            f'{height}', ha='right')\n",
    "plt.xlabel('customer type')\n",
    "plt.ylabel('number of customer')\n",
    "plt.title('distrbution of client with respect to male and female')\n",
    "plt.show()"
   ]
  },
  {
   "cell_type": "raw",
   "id": "ce605f23",
   "metadata": {},
   "source": [
    "this graph shows the type of customer.\n",
    "as we see 2 types of customer , Member and Normal \n",
    "In member 261 are female and 240 are male (more female have member ship card rather than men)\n",
    "in normal 240 are female and 259 are male"
   ]
  },
  {
   "cell_type": "markdown",
   "id": "21539985",
   "metadata": {},
   "source": [
    "### Q8 Which kind of payment is most preferred by customers?\n"
   ]
  },
  {
   "cell_type": "code",
   "execution_count": 30,
   "id": "f0229ea4",
   "metadata": {},
   "outputs": [
    {
     "name": "stdout",
     "output_type": "stream",
     "text": [
      "payment method use by customer\n",
      "Payment      Gender\n",
      "Cash         Female    59514.210\n",
      "             Male      52692.360\n",
      "Credit card  Female    53498.445\n",
      "             Male      47268.627\n",
      "Ewallet      Female    54870.270\n",
      "             Male      55122.837\n",
      "Name: Total, dtype: float64\n"
     ]
    }
   ],
   "source": [
    "payment_method= data.groupby(['Payment' ,'Gender'])['Total'].sum()\n",
    "print('payment method use by customer')\n",
    "print(payment_method)"
   ]
  },
  {
   "cell_type": "code",
   "execution_count": 31,
   "id": "e6a90d58",
   "metadata": {},
   "outputs": [
    {
     "data": {
      "image/png": "[encoded data removed]",
      "text/plain": [
       "<Figure size 576x432 with 1 Axes>"
      ]
     },
     "metadata": {},
     "output_type": "display_data"
    }
   ],
   "source": [
    "explode = [0.05] * len(payment_method) \n",
    "plt.figure(figsize=(8,6))\n",
    "plt.pie(payment_method.values, labels=payment_method.index, autopct='%1.1f%%',explode=explode)\n",
    "plt.show()"
   ]
  },
  {
   "cell_type": "raw",
   "id": "7f7c4b93",
   "metadata": {},
   "source": [
    "Both male and female more prefer Cash \n"
   ]
  },
  {
   "cell_type": "markdown",
   "id": "475b8454",
   "metadata": {},
   "source": [
    "### Q7 What is the payment distribution of total sales with gender?\n"
   ]
  },
  {
   "cell_type": "code",
   "execution_count": 32,
   "id": "f623fca1",
   "metadata": {},
   "outputs": [
    {
     "data": {
      "image/png": "[encoded data removed]",
      "text/plain": [
       "<Figure size 576x432 with 1 Axes>"
      ]
     },
     "metadata": {},
     "output_type": "display_data"
    }
   ],
   "source": [
    "sns.set(style=\"whitegrid\")\n",
    "plt.figure(figsize=(8,6))\n",
    "sns.violinplot(x=\"Payment\" , y='Total' , hue='Gender' , data=data )\n",
    "plt.xlabel('payment method use by customer')\n",
    "plt.ylabel('total spend by the customer')\n",
    "plt.title('Distribution of Payment spend by customer')\n",
    "plt.show()\n"
   ]
  },
  {
   "cell_type": "raw",
   "id": "48930324",
   "metadata": {},
   "source": [
    "This graph shows that the female use more Cash and Credit card more than men\n",
    "men use more Ewallet than woman \n",
    "\n",
    "Payment      Gender\n",
    "Cash         Female    59514.210\n",
    "             Male      52692.360\n",
    "Credit card  Female    53498.445\n",
    "             Male      47268.627\n",
    "Ewallet      Female    54870.270\n",
    "             Male      55122.837\n",
    "\n"
   ]
  },
  {
   "cell_type": "markdown",
   "id": "b6ecd8b8",
   "metadata": {},
   "source": [
    "### Q9 \tWhich product line has most sales ?\n",
    "\n"
   ]
  },
  {
   "cell_type": "code",
   "execution_count": 33,
   "id": "a75a09c3",
   "metadata": {},
   "outputs": [],
   "source": [
    "most_product_sale= data['Product line'].value_counts()"
   ]
  },
  {
   "cell_type": "code",
   "execution_count": 34,
   "id": "d0893c1c",
   "metadata": {},
   "outputs": [
    {
     "data": {
      "text/plain": [
       "<function matplotlib.pyplot.show(close=None, block=None)>"
      ]
     },
     "execution_count": 34,
     "metadata": {},
     "output_type": "execute_result"
    },
    {
     "data": {
      "image/png": "[encoded data removed]",
      "text/plain": [
       "<Figure size 576x432 with 1 Axes>"
      ]
     },
     "metadata": {},
     "output_type": "display_data"
    }
   ],
   "source": [
    "plt.figure(figsize=(8,6))\n",
    "ax=sns.barplot(y= most_product_sale.values, x=most_product_sale.index )\n",
    "plt.xticks(rotation=45)\n",
    "plt.grid(True)\n",
    "plt.ylabel('number of time it is purchased')\n",
    "plt.title('Most sales product', size=15)\n",
    "for p in ax.patches:\n",
    "    height = p.get_height()\n",
    "    ax.text(p.get_x() + p.get_width() / 2, height + 5,\n",
    "            f'{height}', ha='right')\n",
    "plt.show\n"
   ]
  },
  {
   "cell_type": "raw",
   "id": "6401ea3e",
   "metadata": {},
   "source": [
    "This grpah shows that \n",
    "fashion accessordies at first \n",
    "Food and beverages at second\n",
    "electric accessories at third\n",
    "soprts and travel at third\n",
    "home and lifestyle at forth\n",
    "and health and beauty at fifth"
   ]
  },
  {
   "cell_type": "markdown",
   "id": "72b37d02",
   "metadata": {},
   "source": [
    "### Q10 Who purchase things by category"
   ]
  },
  {
   "cell_type": "code",
   "execution_count": 35,
   "id": "1b79ae06",
   "metadata": {},
   "outputs": [
    {
     "data": {
      "image/png": "[encoded data removed]",
      "text/plain": [
       "<Figure size 576x432 with 1 Axes>"
      ]
     },
     "metadata": {},
     "output_type": "display_data"
    }
   ],
   "source": [
    "plt.figure(figsize=(8,6))\n",
    "ax=sns.barplot(x= data['Product line'], y=data['Total'] , hue='Gender' ,data=data)\n",
    "plt.xticks(rotation=45)\n",
    "plt.grid(True)\n",
    "plt.ylabel('Total Sale')\n",
    "plt.title('Total Sales by Gender', size=15)\n",
    "for p in ax.patches:\n",
    "    height = p.get_height()\n",
    "    ax.text(p.get_x() + p.get_width() / 2, height + 5,\n",
    "            f'{height:.2f}', ha='right', rotation=90)\n",
    "plt.show()"
   ]
  },
  {
   "cell_type": "raw",
   "id": "1a1cba7b",
   "metadata": {},
   "source": [
    "we see that female buy mroe things in \n",
    "Fashion, Food , Home and electronic accessories category rather male \n",
    "\n",
    "male buy more things in \n",
    "Health, Sports and travel rather than female  "
   ]
  },
  {
   "cell_type": "markdown",
   "id": "6b6434f8",
   "metadata": {},
   "source": [
    "### Target variable"
   ]
  },
  {
   "cell_type": "raw",
   "id": "efeab919",
   "metadata": {},
   "source": [
    "gross variable has strong correlation between all other so we have choose it as Traget variable"
   ]
  },
  {
   "cell_type": "code",
   "execution_count": 36,
   "id": "72d9a847",
   "metadata": {},
   "outputs": [
    {
     "data": {
      "text/plain": [
       "Index(['Invoice ID', 'Branch', 'City', 'Customer type', 'Gender',\n",
       "       'Product line', 'Unit price', 'Quantity', 'Tax 5%', 'Total', 'Time',\n",
       "       'Payment', 'cogs', 'gross margin percentage', 'gross income', 'Rating',\n",
       "       'Day', 'Month', 'Year'],\n",
       "      dtype='object')"
      ]
     },
     "execution_count": 36,
     "metadata": {},
     "output_type": "execute_result"
    }
   ],
   "source": [
    "data.columns"
   ]
  },
  {
   "cell_type": "code",
   "execution_count": 37,
   "id": "2e2ea41c",
   "metadata": {},
   "outputs": [
    {
     "data": {
      "text/html": [
       "<div>\n",
       "<style scoped>\n",
       "    .dataframe tbody tr th:only-of-type {\n",
       "        vertical-align: middle;\n",
       "    }\n",
       "\n",
       "    .dataframe tbody tr th {\n",
       "        vertical-align: top;\n",
       "    }\n",
       "\n",
       "    .dataframe thead th {\n",
       "        text-align: right;\n",
       "    }\n",
       "</style>\n",
       "<table border=\"1\" class=\"dataframe\">\n",
       "  <thead>\n",
       "    <tr style=\"text-align: right;\">\n",
       "      <th></th>\n",
       "      <th>Unit price</th>\n",
       "      <th>Quantity</th>\n",
       "      <th>gross income</th>\n",
       "    </tr>\n",
       "  </thead>\n",
       "  <tbody>\n",
       "    <tr>\n",
       "      <th>0</th>\n",
       "      <td>74.69</td>\n",
       "      <td>7</td>\n",
       "      <td>26.1415</td>\n",
       "    </tr>\n",
       "    <tr>\n",
       "      <th>1</th>\n",
       "      <td>15.28</td>\n",
       "      <td>5</td>\n",
       "      <td>3.8200</td>\n",
       "    </tr>\n",
       "    <tr>\n",
       "      <th>2</th>\n",
       "      <td>46.33</td>\n",
       "      <td>7</td>\n",
       "      <td>16.2155</td>\n",
       "    </tr>\n",
       "    <tr>\n",
       "      <th>3</th>\n",
       "      <td>58.22</td>\n",
       "      <td>8</td>\n",
       "      <td>23.2880</td>\n",
       "    </tr>\n",
       "    <tr>\n",
       "      <th>4</th>\n",
       "      <td>86.31</td>\n",
       "      <td>7</td>\n",
       "      <td>30.2085</td>\n",
       "    </tr>\n",
       "  </tbody>\n",
       "</table>\n",
       "</div>"
      ],
      "text/plain": [
       "   Unit price  Quantity  gross income\n",
       "0       74.69         7       26.1415\n",
       "1       15.28         5        3.8200\n",
       "2       46.33         7       16.2155\n",
       "3       58.22         8       23.2880\n",
       "4       86.31         7       30.2085"
      ]
     },
     "execution_count": 37,
     "metadata": {},
     "output_type": "execute_result"
    }
   ],
   "source": [
    "ml_data= data[['Unit price', 'Quantity','gross income']]\n",
    "ml_data.head()"
   ]
  },
  {
   "cell_type": "code",
   "execution_count": 38,
   "id": "80c18b6f",
   "metadata": {},
   "outputs": [
    {
     "data": {
      "text/html": [
       "<div>\n",
       "<style scoped>\n",
       "    .dataframe tbody tr th:only-of-type {\n",
       "        vertical-align: middle;\n",
       "    }\n",
       "\n",
       "    .dataframe tbody tr th {\n",
       "        vertical-align: top;\n",
       "    }\n",
       "\n",
       "    .dataframe thead th {\n",
       "        text-align: right;\n",
       "    }\n",
       "</style>\n",
       "<table border=\"1\" class=\"dataframe\">\n",
       "  <thead>\n",
       "    <tr style=\"text-align: right;\">\n",
       "      <th></th>\n",
       "      <th>Unit price</th>\n",
       "      <th>Quantity</th>\n",
       "      <th>gross income</th>\n",
       "    </tr>\n",
       "  </thead>\n",
       "  <tbody>\n",
       "    <tr>\n",
       "      <th>0</th>\n",
       "      <td>74.69</td>\n",
       "      <td>7</td>\n",
       "      <td>26.1415</td>\n",
       "    </tr>\n",
       "    <tr>\n",
       "      <th>1</th>\n",
       "      <td>15.28</td>\n",
       "      <td>5</td>\n",
       "      <td>3.8200</td>\n",
       "    </tr>\n",
       "    <tr>\n",
       "      <th>2</th>\n",
       "      <td>46.33</td>\n",
       "      <td>7</td>\n",
       "      <td>16.2155</td>\n",
       "    </tr>\n",
       "    <tr>\n",
       "      <th>3</th>\n",
       "      <td>58.22</td>\n",
       "      <td>8</td>\n",
       "      <td>23.2880</td>\n",
       "    </tr>\n",
       "    <tr>\n",
       "      <th>4</th>\n",
       "      <td>86.31</td>\n",
       "      <td>7</td>\n",
       "      <td>30.2085</td>\n",
       "    </tr>\n",
       "    <tr>\n",
       "      <th>...</th>\n",
       "      <td>...</td>\n",
       "      <td>...</td>\n",
       "      <td>...</td>\n",
       "    </tr>\n",
       "    <tr>\n",
       "      <th>995</th>\n",
       "      <td>40.35</td>\n",
       "      <td>1</td>\n",
       "      <td>2.0175</td>\n",
       "    </tr>\n",
       "    <tr>\n",
       "      <th>996</th>\n",
       "      <td>97.38</td>\n",
       "      <td>10</td>\n",
       "      <td>48.6900</td>\n",
       "    </tr>\n",
       "    <tr>\n",
       "      <th>997</th>\n",
       "      <td>31.84</td>\n",
       "      <td>1</td>\n",
       "      <td>1.5920</td>\n",
       "    </tr>\n",
       "    <tr>\n",
       "      <th>998</th>\n",
       "      <td>65.82</td>\n",
       "      <td>1</td>\n",
       "      <td>3.2910</td>\n",
       "    </tr>\n",
       "    <tr>\n",
       "      <th>999</th>\n",
       "      <td>88.34</td>\n",
       "      <td>7</td>\n",
       "      <td>30.9190</td>\n",
       "    </tr>\n",
       "  </tbody>\n",
       "</table>\n",
       "<p>1000 rows × 3 columns</p>\n",
       "</div>"
      ],
      "text/plain": [
       "     Unit price  Quantity  gross income\n",
       "0         74.69         7       26.1415\n",
       "1         15.28         5        3.8200\n",
       "2         46.33         7       16.2155\n",
       "3         58.22         8       23.2880\n",
       "4         86.31         7       30.2085\n",
       "..          ...       ...           ...\n",
       "995       40.35         1        2.0175\n",
       "996       97.38        10       48.6900\n",
       "997       31.84         1        1.5920\n",
       "998       65.82         1        3.2910\n",
       "999       88.34         7       30.9190\n",
       "\n",
       "[1000 rows x 3 columns]"
      ]
     },
     "execution_count": 38,
     "metadata": {},
     "output_type": "execute_result"
    }
   ],
   "source": [
    "ml_data"
   ]
  },
  {
   "cell_type": "markdown",
   "id": "65347170",
   "metadata": {},
   "source": [
    "### Split data set"
   ]
  },
  {
   "cell_type": "code",
   "execution_count": 39,
   "id": "f6d81c3f",
   "metadata": {},
   "outputs": [],
   "source": [
    "x=ml_data.drop('gross income', axis=1)\n",
    "y=ml_data[['gross income']]"
   ]
  },
  {
   "cell_type": "code",
   "execution_count": 40,
   "id": "cd3c64a8",
   "metadata": {},
   "outputs": [
    {
     "data": {
      "text/html": [
       "<div>\n",
       "<style scoped>\n",
       "    .dataframe tbody tr th:only-of-type {\n",
       "        vertical-align: middle;\n",
       "    }\n",
       "\n",
       "    .dataframe tbody tr th {\n",
       "        vertical-align: top;\n",
       "    }\n",
       "\n",
       "    .dataframe thead th {\n",
       "        text-align: right;\n",
       "    }\n",
       "</style>\n",
       "<table border=\"1\" class=\"dataframe\">\n",
       "  <thead>\n",
       "    <tr style=\"text-align: right;\">\n",
       "      <th></th>\n",
       "      <th>Unit price</th>\n",
       "      <th>Quantity</th>\n",
       "    </tr>\n",
       "  </thead>\n",
       "  <tbody>\n",
       "    <tr>\n",
       "      <th>0</th>\n",
       "      <td>74.69</td>\n",
       "      <td>7</td>\n",
       "    </tr>\n",
       "    <tr>\n",
       "      <th>1</th>\n",
       "      <td>15.28</td>\n",
       "      <td>5</td>\n",
       "    </tr>\n",
       "    <tr>\n",
       "      <th>2</th>\n",
       "      <td>46.33</td>\n",
       "      <td>7</td>\n",
       "    </tr>\n",
       "    <tr>\n",
       "      <th>3</th>\n",
       "      <td>58.22</td>\n",
       "      <td>8</td>\n",
       "    </tr>\n",
       "    <tr>\n",
       "      <th>4</th>\n",
       "      <td>86.31</td>\n",
       "      <td>7</td>\n",
       "    </tr>\n",
       "  </tbody>\n",
       "</table>\n",
       "</div>"
      ],
      "text/plain": [
       "   Unit price  Quantity\n",
       "0       74.69         7\n",
       "1       15.28         5\n",
       "2       46.33         7\n",
       "3       58.22         8\n",
       "4       86.31         7"
      ]
     },
     "execution_count": 40,
     "metadata": {},
     "output_type": "execute_result"
    }
   ],
   "source": [
    "x.head()"
   ]
  },
  {
   "cell_type": "code",
   "execution_count": 41,
   "id": "35ebdb77",
   "metadata": {},
   "outputs": [
    {
     "data": {
      "text/html": [
       "<div>\n",
       "<style scoped>\n",
       "    .dataframe tbody tr th:only-of-type {\n",
       "        vertical-align: middle;\n",
       "    }\n",
       "\n",
       "    .dataframe tbody tr th {\n",
       "        vertical-align: top;\n",
       "    }\n",
       "\n",
       "    .dataframe thead th {\n",
       "        text-align: right;\n",
       "    }\n",
       "</style>\n",
       "<table border=\"1\" class=\"dataframe\">\n",
       "  <thead>\n",
       "    <tr style=\"text-align: right;\">\n",
       "      <th></th>\n",
       "      <th>gross income</th>\n",
       "    </tr>\n",
       "  </thead>\n",
       "  <tbody>\n",
       "    <tr>\n",
       "      <th>0</th>\n",
       "      <td>26.1415</td>\n",
       "    </tr>\n",
       "    <tr>\n",
       "      <th>1</th>\n",
       "      <td>3.8200</td>\n",
       "    </tr>\n",
       "    <tr>\n",
       "      <th>2</th>\n",
       "      <td>16.2155</td>\n",
       "    </tr>\n",
       "    <tr>\n",
       "      <th>3</th>\n",
       "      <td>23.2880</td>\n",
       "    </tr>\n",
       "    <tr>\n",
       "      <th>4</th>\n",
       "      <td>30.2085</td>\n",
       "    </tr>\n",
       "  </tbody>\n",
       "</table>\n",
       "</div>"
      ],
      "text/plain": [
       "   gross income\n",
       "0       26.1415\n",
       "1        3.8200\n",
       "2       16.2155\n",
       "3       23.2880\n",
       "4       30.2085"
      ]
     },
     "execution_count": 41,
     "metadata": {},
     "output_type": "execute_result"
    }
   ],
   "source": [
    "y.head()"
   ]
  },
  {
   "cell_type": "markdown",
   "id": "3b6c43fd",
   "metadata": {},
   "source": [
    "### Test and Train model"
   ]
  },
  {
   "cell_type": "code",
   "execution_count": 42,
   "id": "1938cc54",
   "metadata": {},
   "outputs": [],
   "source": [
    "from sklearn.model_selection import train_test_split\n",
    "x_train , x_test , y_train , y_test =train_test_split(x,y,test_size=0.3 , random_state=0)"
   ]
  },
  {
   "cell_type": "code",
   "execution_count": 43,
   "id": "01806cfe",
   "metadata": {},
   "outputs": [
    {
     "name": "stdout",
     "output_type": "stream",
     "text": [
      "size of x_train (700, 2)\n",
      "size of x_test (300, 2)\n",
      "size of y_train (700, 1)\n",
      "size of y_test (300, 1)\n"
     ]
    }
   ],
   "source": [
    "print('size of x_train' , x_train.shape)\n",
    "print('size of x_test' , x_test.shape)\n",
    "print('size of y_train' , y_train.shape)\n",
    "print('size of y_test' , y_test.shape)"
   ]
  },
  {
   "cell_type": "markdown",
   "id": "4d0bf589",
   "metadata": {},
   "source": [
    "### Model Selction "
   ]
  },
  {
   "cell_type": "code",
   "execution_count": 44,
   "id": "d622247f",
   "metadata": {},
   "outputs": [],
   "source": [
    "from sklearn.linear_model import LinearRegression"
   ]
  },
  {
   "cell_type": "code",
   "execution_count": 45,
   "id": "b6399da1",
   "metadata": {},
   "outputs": [],
   "source": [
    "model =LinearRegression().fit(x_train, y_train)"
   ]
  },
  {
   "cell_type": "markdown",
   "id": "9eece879",
   "metadata": {},
   "source": [
    "### Model evaluation"
   ]
  },
  {
   "cell_type": "code",
   "execution_count": 46,
   "id": "8b823a77",
   "metadata": {},
   "outputs": [
    {
     "name": "stdout",
     "output_type": "stream",
     "text": [
      "Score of test model  0.8998570786791609\n",
      "Score of train model  0.8856682962640658\n"
     ]
    }
   ],
   "source": [
    "print('Score of test model ' ,model.score( x_test , y_test))\n",
    "print('Score of train model ' ,model.score( x_train , y_train))"
   ]
  },
  {
   "cell_type": "markdown",
   "id": "90176e69",
   "metadata": {},
   "source": [
    "### Prediction"
   ]
  },
  {
   "cell_type": "raw",
   "id": "c4fd3027",
   "metadata": {},
   "source": [
    "first enter the Price and quantity and you get the gross income"
   ]
  },
  {
   "cell_type": "code",
   "execution_count": 47,
   "id": "3b9d8113",
   "metadata": {},
   "outputs": [
    {
     "name": "stdout",
     "output_type": "stream",
     "text": [
      "this prediction is very close to first value  [[24.68906802]]\n"
     ]
    }
   ],
   "source": [
    "y_pred=model.predict([[74.6,7]])\n",
    "print('this prediction is very close to first value ', y_pred)"
   ]
  },
  {
   "cell_type": "markdown",
   "id": "2b86e9b3",
   "metadata": {},
   "source": [
    "### Error"
   ]
  },
  {
   "cell_type": "code",
   "execution_count": 48,
   "id": "4474a3a8",
   "metadata": {},
   "outputs": [
    {
     "name": "stdout",
     "output_type": "stream",
     "text": [
      "mean absolute error 2.839439669008149\n",
      "mean square error 14.154313551775958\n",
      "root mean square error 3.762221890289827\n",
      "r square error 0.8998570786791609\n",
      "adjusted r2 0.8972217386444019\n"
     ]
    }
   ],
   "source": [
    "from sklearn import metrics\n",
    "print('mean absolute error', metrics.mean_absolute_error(y_test , model.predict(x_test)) )\n",
    "print('mean square error' ,metrics.mean_squared_error(y_test,model.predict(x_test)))\n",
    "print('root mean square error' ,np.sqrt(metrics.mean_squared_error(y_test,model.predict(x_test))))\n",
    "print('r square error',metrics.r2_score(y_test , model.predict(x_test)))\n",
    "# adjestic r2\n",
    "r2=metrics.r2_score(y_test , model.predict(x_test))\n",
    "print('adjusted r2', 1-((1-r2)*(40-1)/(40-1-1)))"
   ]
  },
  {
   "cell_type": "code",
   "execution_count": null,
   "id": "75c30e72",
   "metadata": {},
   "outputs": [],
   "source": []
  }
 ],
 "metadata": {
  "kernelspec": {
   "display_name": "Python 3",
   "language": "python",
   "name": "python3"
  },
  "language_info": {
   "codemirror_mode": {
    "name": "ipython",
    "version": 3
   },
   "file_extension": ".py",
   "mimetype": "text/x-python",
   "name": "python",
   "nbconvert_exporter": "python",
   "pygments_lexer": "ipython3",
   "version": "3.8.8"
  }
 },
 "nbformat": 4,
 "nbformat_minor": 5
}
